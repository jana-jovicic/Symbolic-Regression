{
 "cells": [
  {
   "cell_type": "code",
   "execution_count": 2,
   "id": "1daba9d1",
   "metadata": {},
   "outputs": [],
   "source": [
    "import seaborn as sns\n",
    "#import scipy\n",
    "#import sklearn\n",
    "import pandas as pd\n",
    "#import numpy as np\n",
    "from datetime import datetime\n",
    "from matplotlib import pyplot as plt"
   ]
  },
  {
   "cell_type": "code",
   "execution_count": 3,
   "id": "c3b22ded",
   "metadata": {},
   "outputs": [],
   "source": [
    "def average_time(times):\n",
    "    \n",
    "    total_secs = 0\n",
    "    n = 0\n",
    "    for time in times:\n",
    "        h, m, s = time.split(':')\n",
    "        secs = float(s) + float(m)*60 + float(h)*3600\n",
    "        total_secs += secs\n",
    "        n += 1\n",
    "    \n",
    "    avg_time = round(total_secs / n, 2)\n",
    "    hours, rem = divmod(avg_time, 3600)\n",
    "    minutes, seconds = divmod(rem, 60)\n",
    "    executionTimeFormated = '{:0>2}:{:0>2}:{:05.2f}'.format(int(hours), int(minutes), seconds)\n",
    "    \n",
    "    return executionTimeFormated"
   ]
  },
  {
   "cell_type": "code",
   "execution_count": 4,
   "id": "f82d66b0",
   "metadata": {},
   "outputs": [],
   "source": [
    "def analyseResults(functionName):\n",
    "    \n",
    "    \n",
    "    print('----------------------------------------------------------')\n",
    "    \n",
    "    basicGPresultsPath = '../results/GP/basicGP/' + functionName + '.csv'\n",
    "    dfBasicGP = pd.read_csv(basicGPresultsPath)\n",
    "    \n",
    "    print(\"Basic GP result analysis:\")\n",
    "    print()\n",
    "    print(\"Mean R2 score on train data:\", dfBasicGP[\"TrainR2Score\"].mean())\n",
    "    print(\"Mean R2 score on test data:\", dfBasicGP[\"TestR2Score\"].mean())\n",
    "    \n",
    "    maxTestScoreRowIdxBasicGP = dfBasicGP[\"TestR2Score\"].idxmax()\n",
    "    bestResultRowBasicGP = dfBasicGP.iloc[[maxTestScoreRowIdxBasicGP]]\n",
    "    #print(bestResultRowBasicGP)\n",
    "    print('Max R2 score on test data is {0} for individual {1}, simplified to {2}'.format(bestResultRowBasicGP.iloc[0]['TestR2Score'], bestResultRowBasicGP.iloc[0]['BestIndividual'], bestResultRowBasicGP.iloc[0]['BestIndividualSimplified']))\n",
    "    \n",
    "    if 'SympyEquivalence' in dfBasicGP.columns:\n",
    "        print('Symbolical equivalence with target function:', bestResultRowBasicGP.iloc[0]['SympyEquivalence'])\n",
    "        numOfSymEquivalences = 0\n",
    "        if dfBasicGP['SympyEquivalence'].any():\n",
    "            numOfSymEquivalences = dfBasicGP['SympyEquivalence'].value_counts()[True]\n",
    "        print('Number of runs in which symbolical equivalence was achived:', numOfSymEquivalences)\n",
    "    \n",
    "    avg_time = average_time(dfBasicGP[\"Time\"])\n",
    "    print(\"Average time: \", avg_time)\n",
    "    \n",
    "    print('----------------------------------------------------------')\n",
    "    print()\n",
    "    \n",
    "    \n",
    "    sscGPresultsPath = '../results/GP/SSC/' + functionName + '.csv'\n",
    "    dfSSCGP = pd.read_csv(sscGPresultsPath)\n",
    "    \n",
    "    print(\"GP with Semantic Similarity-based Crossover result analysis:\")\n",
    "    print()\n",
    "    print(\"Mean R2 score on train data:\", dfSSCGP[\"TrainR2Score\"].mean())\n",
    "    print(\"Mean R2 score on test data:\", dfSSCGP[\"TestR2Score\"].mean())\n",
    "    \n",
    "    maxTestScoreRowIdxSSCGP = dfSSCGP[\"TestR2Score\"].idxmax()\n",
    "    bestResultRowSSCGP = dfSSCGP.iloc[[maxTestScoreRowIdxSSCGP]]\n",
    "    #print(bestResultRowBasicGP)\n",
    "    print('Max R2 score on test data is {0} for individual {1}, simplified to {2}'.format(bestResultRowSSCGP.iloc[0]['TestR2Score'], bestResultRowSSCGP.iloc[0]['BestIndividual'], bestResultRowSSCGP.iloc[0]['BestIndividualSimplified']))\n",
    "    \n",
    "    if 'SympyEquivalence' in dfSSCGP.columns:\n",
    "        print('Symbolical equivalence with target function:', bestResultRowSSCGP.iloc[0]['SympyEquivalence'])\n",
    "        numOfSymEquivalences = 0\n",
    "        if dfSSCGP['SympyEquivalence'].any():\n",
    "            numOfSymEquivalences = dfSSCGP['SympyEquivalence'].value_counts()[True]\n",
    "        print('Number of runs in which symbolical equivalence was achived:', numOfSymEquivalences)\n",
    "        \n",
    "        \n",
    "    avg_time = average_time(dfSSCGP[\"Time\"])\n",
    "    print(\"Average time: \", avg_time)\n",
    "    \n",
    "    print('----------------------------------------------------------')\n",
    "    print()\n",
    "    \n",
    "    \n",
    "    vnpResultsPath = '../results/VNP/' + functionName + '.csv'\n",
    "    dfVNP = pd.read_csv(vnpResultsPath)\n",
    "    \n",
    "    print(\"VNP result analysis:\")\n",
    "    print()\n",
    "    print(\"Mean R2 score on train data:\", dfVNP[\"TrainR2Score\"].mean())\n",
    "    print(\"Mean R2 score on test data:\", dfVNP[\"TestR2Score\"].mean())\n",
    "    \n",
    "    maxTestScoreRowIdxVNP = dfVNP[\"TestR2Score\"].idxmax()\n",
    "    bestResultRowVNP = dfVNP.iloc[[maxTestScoreRowIdxVNP]]\n",
    "    #print(bestResultRowBasicGP)\n",
    "    print('Max R2 score on test data is {0} for individual {1}, simplified to {2}'.format(bestResultRowVNP.iloc[0]['TestR2Score'], bestResultRowVNP.iloc[0]['BestSolution'], bestResultRowVNP.iloc[0]['BestSolutionSimplified']))\n",
    "    \n",
    "    if 'SympyEquivalence' in dfVNP.columns:\n",
    "        print('Symbolical equivalence with target function:', bestResultRowVNP.iloc[0]['SympyEquivalence'])\n",
    "        numOfSymEquivalences = 0\n",
    "        if dfVNP['SympyEquivalence'].any():\n",
    "            numOfSymEquivalences = dfVNP['SympyEquivalence'].value_counts()[True]\n",
    "        print('Number of runs in which symbolical equivalence was achived:', numOfSymEquivalences)\n",
    "        \n",
    "    avg_time = average_time(dfVNP[\"Time\"])\n",
    "    print(\"Average time: \", avg_time)\n",
    "    \n",
    "    print('----------------------------------------------------------')\n",
    "    print()\n",
    "    \n",
    "\n",
    "    \n",
    "    mergedData = []\n",
    "    \n",
    "    for index, row in dfBasicGP.iterrows():\n",
    "        mergedData.append([row['TrainR2Score'], 'train', 'basicGP'])\n",
    "        mergedData.append([row['TestR2Score'], 'test', 'basicGP'])\n",
    "        \n",
    "    for index, row in dfSSCGP.iterrows():\n",
    "        mergedData.append([row['TrainR2Score'], 'train', 'sscGP'])\n",
    "        mergedData.append([row['TestR2Score'], 'test', 'sscGP'])\n",
    "        \n",
    "    for index, row in dfVNP.iterrows():\n",
    "        mergedData.append([row['TrainR2Score'], 'train', 'VNP'])\n",
    "        mergedData.append([row['TestR2Score'], 'test', 'VNP'])\n",
    "        \n",
    "    #for row in mergedData:\n",
    "        #print(row)\n",
    "        \n",
    "    dfMerged = pd.DataFrame(mergedData, columns = ['r2_score', 'datasetType', 'metaheuristicType'])\n",
    "        \n",
    "    #sns.set(rc={'figure.figsize':(7,5)})\n",
    "    ax = sns.boxplot(x=\"metaheuristicType\", y=\"r2_score\", hue=\"datasetType\", data=dfMerged, palette=\"Set3\")\n",
    "    plt.savefig('boxplots/'+ functionName +'.png')"
   ]
  },
  {
   "cell_type": "code",
   "execution_count": 96,
   "id": "96f08659",
   "metadata": {
    "scrolled": true
   },
   "outputs": [
    {
     "name": "stdout",
     "output_type": "stream",
     "text": [
      "----------------------------------------------------------\n",
      "Basic GP result analysis:\n",
      "\n",
      "Mean R2 score on train data: 0.9141515931401908\n",
      "Mean R2 score on test data: 0.9074026921847483\n",
      "Max R2 score on test data is 0.992114015750541 for individual ((x0 / cos(x0)) + (x0 * x0)), simplified to x0*(x0 + 1/cos(x0))\n",
      "Symbolical equivalence with target function: False\n",
      "Number of runs in which symbolical equivalence was achived: 0\n",
      "Average time:  00:00:15.65\n",
      "----------------------------------------------------------\n",
      "\n",
      "GP with Semantic Similarity-based Crossover result analysis:\n",
      "\n",
      "Mean R2 score on train data: 0.8613699379333387\n",
      "Mean R2 score on test data: 0.8272721554239376\n",
      "Max R2 score on test data is 0.984988260834925 for individual ((x0 + (x0 * x0)) / (cos(x0)**(cos(x0)))), simplified to x0*(x0 + 1)/cos(x0)**cos(x0)\n",
      "Symbolical equivalence with target function: False\n",
      "Number of runs in which symbolical equivalence was achived: 0\n",
      "Average time:  00:00:24.98\n",
      "----------------------------------------------------------\n",
      "\n",
      "VNP result analysis:\n",
      "\n",
      "Mean R2 score on train data: 0.8785739162456815\n",
      "Mean R2 score on test data: 0.8103839429191866\n",
      "Max R2 score on test data is 1.0 for individual (((x0 + x0) + ((x0 + (x0 * x0)) * x0)) - x0), simplified to x0*(x0*(x0 + 1) + 1)\n",
      "Symbolical equivalence with target function: True\n",
      "*********\n",
      "Number of runs in which symbolical equivalence was achived: 9\n",
      "Average time:  00:00:07.90\n",
      "----------------------------------------------------------\n",
      "\n"
     ]
    },
    {
     "data": {
      "image/png": "[encoded data removed]",
      "text/plain": [
       "<Figure size 432x288 with 1 Axes>"
      ]
     },
     "metadata": {
      "needs_background": "light"
     },
     "output_type": "display_data"
    }
   ],
   "source": [
    "analyseResults('f1')"
   ]
  },
  {
   "cell_type": "code",
   "execution_count": 98,
   "id": "eb845863",
   "metadata": {},
   "outputs": [
    {
     "name": "stdout",
     "output_type": "stream",
     "text": [
      "----------------------------------------------------------\n",
      "Basic GP result analysis:\n",
      "\n",
      "Mean R2 score on train data: 0.8266418455423321\n",
      "Mean R2 score on test data: 0.8239778016366329\n",
      "Max R2 score on test data is 0.9944176468217892 for individual ((x0 + (x0 * x0)) / cos(sin((sin(x0) / cos(x0))))), simplified to x0*(x0 + 1)/cos(sin(tan(x0)))\n",
      "Symbolical equivalence with target function: False\n",
      "Number of runs in which symbolical equivalence was achived: 0\n",
      "Average time:  00:00:13.89\n",
      "----------------------------------------------------------\n",
      "\n",
      "GP with Semantic Similarity-based Crossover result analysis:\n",
      "\n",
      "Mean R2 score on train data: 0.7991429496033916\n",
      "Mean R2 score on test data: 0.7976483082966596\n",
      "Max R2 score on test data is 0.9809793601937404 for individual (((x0 / x0) + sin(x0)) * (x0 + (x0 * x0))), simplified to x0*(x0 + 1)*(sin(x0) + 1)\n",
      "Symbolical equivalence with target function: False\n",
      "Number of runs in which symbolical equivalence was achived: 0\n",
      "Average time:  00:00:26.05\n",
      "----------------------------------------------------------\n",
      "\n",
      "VNP result analysis:\n",
      "\n",
      "Mean R2 score on train data: 0.808781245836646\n",
      "Mean R2 score on test data: 0.8046324435457836\n",
      "Max R2 score on test data is 1.0 for individual ((((x0 + (x0 * x0)) * x0) * x0) + (x0 + (x0 * x0))), simplified to x0*(x0**2*(x0 + 1) + x0 + 1)\n",
      "Symbolical equivalence with target function: True\n",
      "Number of runs in which symbolical equivalence was achived: 7\n",
      "Average time:  00:00:08.61\n",
      "----------------------------------------------------------\n",
      "\n"
     ]
    },
    {
     "data": {
      "image/png": "[encoded data removed]",
      "text/plain": [
       "<Figure size 432x288 with 1 Axes>"
      ]
     },
     "metadata": {
      "needs_background": "light"
     },
     "output_type": "display_data"
    }
   ],
   "source": [
    "analyseResults('f2')"
   ]
  },
  {
   "cell_type": "code",
   "execution_count": 99,
   "id": "0ffb49e6",
   "metadata": {},
   "outputs": [
    {
     "name": "stdout",
     "output_type": "stream",
     "text": [
      "----------------------------------------------------------\n",
      "Basic GP result analysis:\n",
      "\n",
      "Mean R2 score on train data: 0.8506114871025913\n",
      "Mean R2 score on test data: 0.6945540158553251\n",
      "Max R2 score on test data is 0.980890739944617 for individual ((x0 / ((cos(x0) / cos(0.542))**(x0))) / ((x0 / ((x0 / 0.235) - sin(x0)))**(x0))), simplified to X0/((1.16729*cos(x0))**x0*(x0/(4.2553*x0 - sin(x0)))**x0)\n",
      "Symbolical equivalence with target function: False\n",
      "Number of runs in which symbolical equivalence was achived: 0\n",
      "Average time:  00:00:20.80\n",
      "----------------------------------------------------------\n",
      "\n",
      "GP with Semantic Similarity-based Crossover result analysis:\n",
      "\n",
      "Mean R2 score on train data: 0.8506298562819317\n",
      "Mean R2 score on test data: -1.4287720436082718\n",
      "Max R2 score on test data is 0.9945475416735132 for individual (sin(x0) + (x0 * (((x0 * x0) + x0) / sin(cos(x0))))), simplified to (x0**3 + x0**2 + sin(x0)*sin(cos(x0)))/sin(cos(x0))\n",
      "Symbolical equivalence with target function: False\n",
      "Number of runs in which symbolical equivalence was achived: 0\n",
      "Average time:  00:00:23.05\n",
      "----------------------------------------------------------\n",
      "\n",
      "VNP result analysis:\n",
      "\n",
      "Mean R2 score on train data: 0.8287596446475258\n",
      "Mean R2 score on test data: 0.7864383158860984\n",
      "Max R2 score on test data is 1.0 for individual ((((x0 * (x0 * x0)) + x0) * ((x0 * x0) + x0)) + x0), simplified to x0*(x0*(x0 + 1)*(x0**2 + 1) + 1)\n",
      "Symbolical equivalence with target function: True\n",
      "Number of runs in which symbolical equivalence was achived: 3\n",
      "Average time:  00:00:11.44\n",
      "----------------------------------------------------------\n",
      "\n"
     ]
    },
    {
     "data": {
      "image/png": "[encoded data removed]",
      "text/plain": [
       "<Figure size 432x288 with 1 Axes>"
      ]
     },
     "metadata": {
      "needs_background": "light"
     },
     "output_type": "display_data"
    }
   ],
   "source": [
    "analyseResults('f3')"
   ]
  },
  {
   "cell_type": "code",
   "execution_count": 100,
   "id": "5d202f21",
   "metadata": {},
   "outputs": [
    {
     "name": "stdout",
     "output_type": "stream",
     "text": [
      "----------------------------------------------------------\n",
      "Basic GP result analysis:\n",
      "\n",
      "Mean R2 score on train data: 0.746318453891946\n",
      "Mean R2 score on test data: 0.795872061535691\n",
      "Max R2 score on test data is 0.985984681416326 for individual (x0 / (cos(log(0.302))**((x0 / cos(x0))))), simplified to 2.74087**(x0/cos(x0))*x0\n",
      "Symbolical equivalence with target function: False\n",
      "Number of runs in which symbolical equivalence was achived: 0\n",
      "Average time:  00:00:14.02\n",
      "----------------------------------------------------------\n",
      "\n",
      "GP with Semantic Similarity-based Crossover result analysis:\n",
      "\n",
      "Mean R2 score on train data: 0.6911031684739692\n",
      "Mean R2 score on test data: 0.743329064581699\n",
      "Max R2 score on test data is 0.959551847816302 for individual (((-0.501 / -0.182)**(sin(x0))) * ((x0 * x0) - (x0 / -0.923))), simplified to 2.75274725274725**sin(x0)*x0*(x0 + 1.08342361863489)\n",
      "Symbolical equivalence with target function: False\n",
      "Number of runs in which symbolical equivalence was achived: 0\n",
      "Average time:  00:00:27.00\n",
      "----------------------------------------------------------\n",
      "\n",
      "VNP result analysis:\n",
      "\n",
      "Mean R2 score on train data: 0.8202147029979018\n",
      "Mean R2 score on test data: 0.783545715518834\n",
      "Max R2 score on test data is 1.0 for individual (((x0 * ((x0 * (x0 * x0)) + x0)) * ((x0 * x0) + x0)) + ((x0 * x0) + x0)), simplified to x0*(x0**2*(x0 + 1)*(x0**2 + 1) + x0 + 1)\n",
      "Symbolical equivalence with target function: True\n",
      "Number of runs in which symbolical equivalence was achived: 1\n",
      "Average time:  00:00:13.24\n",
      "----------------------------------------------------------\n",
      "\n"
     ]
    },
    {
     "data": {
      "image/png": "[encoded data removed]",
      "text/plain": [
       "<Figure size 432x288 with 1 Axes>"
      ]
     },
     "metadata": {
      "needs_background": "light"
     },
     "output_type": "display_data"
    }
   ],
   "source": [
    "analyseResults('f4')"
   ]
  },
  {
   "cell_type": "code",
   "execution_count": 101,
   "id": "502fdf39",
   "metadata": {},
   "outputs": [
    {
     "name": "stdout",
     "output_type": "stream",
     "text": [
      "----------------------------------------------------------\n",
      "Basic GP result analysis:\n",
      "\n",
      "Mean R2 score on train data: 0.6431833357943357\n",
      "Mean R2 score on test data: 0.6071726906099014\n",
      "Max R2 score on test data is 0.9435017663173292 for individual (log(cos(0.925)) / sin((0.482 + (x0 * x0)))), simplified to -0.507772634912581/sin(x0**2 + 0.482)\n",
      "Symbolical equivalence with target function: False\n",
      "Number of runs in which symbolical equivalence was achived: 0\n",
      "Average time:  00:00:14.18\n",
      "----------------------------------------------------------\n",
      "\n",
      "GP with Semantic Similarity-based Crossover result analysis:\n",
      "\n",
      "Mean R2 score on train data: 0.6060348539823904\n",
      "Mean R2 score on test data: 0.5886109224953866\n",
      "Max R2 score on test data is 0.9637131887575136 for individual (log((cos(0.996)**(cos(0.996)))) + log(cos(cos(x0)))), simplified to log(cos(cos(x0))) - 0.331321874161918\n",
      "Symbolical equivalence with target function: False\n",
      "Number of runs in which symbolical equivalence was achived: 0\n",
      "Average time:  00:00:24.75\n",
      "----------------------------------------------------------\n",
      "\n",
      "VNP result analysis:\n",
      "\n",
      "Mean R2 score on train data: 0.8960447186569698\n",
      "Mean R2 score on test data: 0.8767657779690406\n",
      "Max R2 score on test data is 0.9967072792918732 for individual ((sin(log(cos((x0 * x0)))) - sin(sin(log(cos(x0))))) - cos(x0)), simplified to sin(log(cos(x0**2))) - sin(sin(log(cos(x0)))) - cos(x0)\n",
      "Symbolical equivalence with target function: False\n",
      "Number of runs in which symbolical equivalence was achived: 0\n",
      "Average time:  00:00:14.90\n",
      "----------------------------------------------------------\n",
      "\n"
     ]
    },
    {
     "data": {
      "image/png": "[encoded data removed]",
      "text/plain": [
       "<Figure size 432x288 with 1 Axes>"
      ]
     },
     "metadata": {
      "needs_background": "light"
     },
     "output_type": "display_data"
    }
   ],
   "source": [
    "analyseResults('f5')"
   ]
  },
  {
   "cell_type": "code",
   "execution_count": 102,
   "id": "9628bd91",
   "metadata": {},
   "outputs": [
    {
     "name": "stdout",
     "output_type": "stream",
     "text": [
      "----------------------------------------------------------\n",
      "Basic GP result analysis:\n",
      "\n",
      "Mean R2 score on train data: 0.9279120200166845\n",
      "Mean R2 score on test data: 0.883389578717141\n",
      "Max R2 score on test data is 0.9706700700906756 for individual (x0 / cos(cos((x0 + -0.52)))), simplified to x0/cos(cos(x0 - 0.52))\n",
      "Symbolical equivalence with target function: False\n",
      "Number of runs in which symbolical equivalence was achived: 0\n",
      "Average time:  00:00:13.53\n",
      "----------------------------------------------------------\n",
      "\n",
      "GP with Semantic Similarity-based Crossover result analysis:\n",
      "\n",
      "Mean R2 score on train data: 0.9170027990334023\n",
      "Mean R2 score on test data: 0.8814683515605797\n",
      "Max R2 score on test data is 0.9870935355961148 for individual ((log(cos(log(0.575))) * (((x0 - x0)**((x0 - x0))) * sin((x0 - x0)))) + ((((x0 / -0.098) * cos(x0)) * sin(sin(-0.25))) + sin(((x0 * x0) * cos(x0))))), simplified to 2.49885502320634*x0*cos(x0) + sin(x0**2*cos(x0))\n",
      "Symbolical equivalence with target function: False\n",
      "Number of runs in which symbolical equivalence was achived: 0\n",
      "Average time:  00:00:27.31\n",
      "----------------------------------------------------------\n",
      "\n",
      "VNP result analysis:\n",
      "\n",
      "Mean R2 score on train data: 0.949593828810939\n",
      "Mean R2 score on test data: 0.9356520147634088\n",
      "Max R2 score on test data is 1.0 for individual (sin(x0) + sin(((x0 * x0) + x0))), simplified to sin(x0) + sin(x0*(x0 + 1))\n",
      "Symbolical equivalence with target function: True\n",
      "Number of runs in which symbolical equivalence was achived: 1\n",
      "Average time:  00:00:13.27\n",
      "----------------------------------------------------------\n",
      "\n"
     ]
    },
    {
     "data": {
      "image/png": "[encoded data removed]",
      "text/plain": [
       "<Figure size 432x288 with 1 Axes>"
      ]
     },
     "metadata": {
      "needs_background": "light"
     },
     "output_type": "display_data"
    }
   ],
   "source": [
    "analyseResults('f6')"
   ]
  },
  {
   "cell_type": "code",
   "execution_count": 103,
   "id": "ee8e8320",
   "metadata": {},
   "outputs": [
    {
     "name": "stdout",
     "output_type": "stream",
     "text": [
      "----------------------------------------------------------\n",
      "Basic GP result analysis:\n",
      "\n",
      "Mean R2 score on train data: 0.9596784225383559\n",
      "Mean R2 score on test data: 0.9500241358356488\n",
      "Max R2 score on test data is 0.9973906465943764 for individual (x0 + ((x0 * 0.359)**((x0 / x0)))), simplified to 1.359*x0\n",
      "Symbolical equivalence with target function: False\n",
      "Number of runs in which symbolical equivalence was achived: 0\n",
      "Average time:  00:00:18.37\n",
      "----------------------------------------------------------\n",
      "\n",
      "GP with Semantic Similarity-based Crossover result analysis:\n",
      "\n",
      "Mean R2 score on train data: 0.9679834285069145\n",
      "Mean R2 score on test data: 0.9587007101746469\n",
      "Max R2 score on test data is 0.9981749066602812 for individual (x0 / sin(0.81)), simplified to 1.38066782815756*x0\n",
      "Symbolical equivalence with target function: False\n",
      "Number of runs in which symbolical equivalence was achived: 0\n",
      "Average time:  00:00:51.65\n",
      "----------------------------------------------------------\n",
      "\n",
      "VNP result analysis:\n",
      "\n",
      "Mean R2 score on train data: 0.9950106061287372\n",
      "Mean R2 score on test data: 0.9938025244111832\n",
      "Max R2 score on test data is 1.0 for individual log(((((x0 / x0) + ((x0 * x0) * x0)) + x0) + (x0 * x0))), simplified to log(x0**3 + x0**2 + x0 + 1)\n",
      "Symbolical equivalence with target function: False\n",
      "Number of runs in which symbolical equivalence was achived: 0\n",
      "Average time:  00:00:11.85\n",
      "----------------------------------------------------------\n",
      "\n"
     ]
    },
    {
     "data": {
      "image/png": "[encoded data removed]",
      "text/plain": [
       "<Figure size 432x288 with 1 Axes>"
      ]
     },
     "metadata": {
      "needs_background": "light"
     },
     "output_type": "display_data"
    }
   ],
   "source": [
    "analyseResults('f7')"
   ]
  },
  {
   "cell_type": "code",
   "execution_count": 108,
   "id": "6177b87b",
   "metadata": {},
   "outputs": [
    {
     "name": "stdout",
     "output_type": "stream",
     "text": [
      "----------------------------------------------------------\n",
      "Basic GP result analysis:\n",
      "\n",
      "Mean R2 score on train data: 0.8571601265021551\n",
      "Mean R2 score on test data: 0.7159485160505176\n",
      "Max R2 score on test data is 0.9993548911626908 for individual (sin(x0) + (x1 * sin(x1))), simplified to x1*sin(x1) + sin(x0)\n",
      "Symbolical equivalence with target function: False\n",
      "Number of runs in which symbolical equivalence was achived: 0\n",
      "Average time:  00:00:13.34\n",
      "----------------------------------------------------------\n",
      "\n",
      "GP with Semantic Similarity-based Crossover result analysis:\n",
      "\n",
      "Mean R2 score on train data: 0.8367063026559047\n",
      "Mean R2 score on test data: 0.6577938624933164\n",
      "Max R2 score on test data is 0.9943788542739448 for individual ((sin(x0) + (x1 * x0)) - ((x0 - x1) * sin(x1))), simplified to x0*x1 + (-x0 + x1)*sin(x1) + sin(x0)\n",
      "Symbolical equivalence with target function: False\n",
      "Number of runs in which symbolical equivalence was achived: 0\n",
      "Average time:  00:00:35.03\n",
      "----------------------------------------------------------\n",
      "\n",
      "VNP result analysis:\n",
      "\n",
      "Mean R2 score on train data: 0.958053524462071\n",
      "Mean R2 score on test data: 0.9127360772396114\n",
      "Max R2 score on test data is 1.0 for individual (sin(x0) + sin((x1 / ((x1 / x1) / x1)))), simplified to sin(x0) + sin(x1**2)\n",
      "Symbolical equivalence with target function: True\n",
      "Number of runs in which symbolical equivalence was achived: 4\n",
      "Average time:  00:00:08.01\n",
      "----------------------------------------------------------\n",
      "\n"
     ]
    },
    {
     "data": {
      "image/png": "[encoded data removed]",
      "text/plain": [
       "<Figure size 432x288 with 1 Axes>"
      ]
     },
     "metadata": {
      "needs_background": "light"
     },
     "output_type": "display_data"
    }
   ],
   "source": [
    "analyseResults('f8')"
   ]
  },
  {
   "cell_type": "code",
   "execution_count": 105,
   "id": "6329de38",
   "metadata": {},
   "outputs": [
    {
     "name": "stdout",
     "output_type": "stream",
     "text": [
      "----------------------------------------------------------\n",
      "Basic GP result analysis:\n",
      "\n",
      "Mean R2 score on train data: 0.9497057072084765\n",
      "Mean R2 score on test data: 0.9547554275419929\n",
      "Max R2 score on test data is 1.0 for individual (cos(x1) * (sin(x0) + sin(x0))), simplified to 2*sin(x0)*cos(x1)\n",
      "Symbolical equivalence with target function: True\n",
      "Number of runs in which symbolical equivalence was achived: 1\n",
      "Average time:  00:00:12.17\n",
      "----------------------------------------------------------\n",
      "\n",
      "GP with Semantic Similarity-based Crossover result analysis:\n",
      "\n",
      "Mean R2 score on train data: 0.9401102068547346\n",
      "Mean R2 score on test data: 0.9382008069416367\n",
      "Max R2 score on test data is 1.0 for individual (cos(x1) * (sin(x0) + sin(x0))), simplified to 2*sin(x0)*cos(x1)\n",
      "Symbolical equivalence with target function: True\n",
      "Number of runs in which symbolical equivalence was achived: 1\n",
      "Average time:  00:00:28.44\n",
      "----------------------------------------------------------\n",
      "\n",
      "VNP result analysis:\n",
      "\n",
      "Mean R2 score on train data: 0.9524967916917106\n",
      "Mean R2 score on test data: 0.9625985841516428\n",
      "Max R2 score on test data is 1.0 for individual (sin((x0 - x1)) + sin((x1 + x0))), simplified to 2*sin(x0)*cos(x1)\n",
      "Symbolical equivalence with target function: True\n",
      "Number of runs in which symbolical equivalence was achived: 1\n",
      "Average time:  00:00:07.02\n",
      "----------------------------------------------------------\n",
      "\n"
     ]
    },
    {
     "data": {
      "image/png": "[encoded data removed]",
      "text/plain": [
       "<Figure size 432x288 with 1 Axes>"
      ]
     },
     "metadata": {
      "needs_background": "light"
     },
     "output_type": "display_data"
    }
   ],
   "source": [
    "analyseResults('f9')"
   ]
  },
  {
   "cell_type": "code",
   "execution_count": null,
   "id": "dd1c4015",
   "metadata": {},
   "outputs": [],
   "source": []
  },
  {
   "cell_type": "code",
   "execution_count": 5,
   "id": "5b8775ad",
   "metadata": {},
   "outputs": [
    {
     "name": "stdout",
     "output_type": "stream",
     "text": [
      "----------------------------------------------------------\n",
      "Basic GP result analysis:\n",
      "\n",
      "Mean R2 score on train data: 0.8785349165823936\n",
      "Mean R2 score on test data: 0.8979987273120948\n",
      "Max R2 score on test data is 1.0 for individual ((x0 * x1) + x1), simplified to x1*(x0 + 1)\n",
      "Symbolical equivalence with target function: True\n",
      "Number of runs in which symbolical equivalence was achived: 7\n",
      "Average time:  00:00:12.52\n",
      "----------------------------------------------------------\n",
      "\n",
      "GP with Semantic Similarity-based Crossover result analysis:\n",
      "\n",
      "Mean R2 score on train data: 0.8312284306790262\n",
      "Mean R2 score on test data: 0.861358815577377\n",
      "Max R2 score on test data is 1.0 for individual ((x1 * x0) + ((x0 * x1) / x0)), simplified to x1*(x0 + 1)\n",
      "Symbolical equivalence with target function: True\n",
      "Number of runs in which symbolical equivalence was achived: 3\n",
      "Average time:  00:00:19.88\n",
      "----------------------------------------------------------\n",
      "\n",
      "VNP result analysis:\n",
      "\n",
      "Mean R2 score on train data: 0.9427203568737644\n",
      "Mean R2 score on test data: 0.9390434770477608\n",
      "Max R2 score on test data is 1.0 for individual ((x1 * x0) + x1), simplified to x1*(x0 + 1)\n",
      "Symbolical equivalence with target function: True\n",
      "Number of runs in which symbolical equivalence was achived: 11\n",
      "Average time:  00:00:04.04\n",
      "----------------------------------------------------------\n",
      "\n"
     ]
    },
    {
     "data": {
      "image/png": "[encoded data removed]",
      "text/plain": [
       "<Figure size 432x288 with 1 Axes>"
      ]
     },
     "metadata": {
      "needs_background": "light"
     },
     "output_type": "display_data"
    }
   ],
   "source": [
    "analyseResults('f01')"
   ]
  },
  {
   "cell_type": "code",
   "execution_count": 6,
   "id": "2a60aaff",
   "metadata": {},
   "outputs": [
    {
     "name": "stdout",
     "output_type": "stream",
     "text": [
      "----------------------------------------------------------\n",
      "Basic GP result analysis:\n",
      "\n",
      "Mean R2 score on train data: 0.645032981105904\n",
      "Mean R2 score on test data: 0.6540956395220933\n"
     ]
    },
    {
     "ename": "KeyError",
     "evalue": "'BestIndividualSimplified'",
     "output_type": "error",
     "traceback": [
      "\u001b[0;31m---------------------------------------------------------------------------\u001b[0m",
      "\u001b[0;31mKeyError\u001b[0m                                  Traceback (most recent call last)",
      "\u001b[0;32m~/.virtualenvs/cv/lib/python3.8/site-packages/pandas/core/indexes/base.py\u001b[0m in \u001b[0;36mget_loc\u001b[0;34m(self, key, method, tolerance)\u001b[0m\n\u001b[1;32m   3360\u001b[0m             \u001b[0;32mtry\u001b[0m\u001b[0;34m:\u001b[0m\u001b[0;34m\u001b[0m\u001b[0;34m\u001b[0m\u001b[0m\n\u001b[0;32m-> 3361\u001b[0;31m                 \u001b[0;32mreturn\u001b[0m \u001b[0mself\u001b[0m\u001b[0;34m.\u001b[0m\u001b[0m_engine\u001b[0m\u001b[0;34m.\u001b[0m\u001b[0mget_loc\u001b[0m\u001b[0;34m(\u001b[0m\u001b[0mcasted_key\u001b[0m\u001b[0;34m)\u001b[0m\u001b[0;34m\u001b[0m\u001b[0;34m\u001b[0m\u001b[0m\n\u001b[0m\u001b[1;32m   3362\u001b[0m             \u001b[0;32mexcept\u001b[0m \u001b[0mKeyError\u001b[0m \u001b[0;32mas\u001b[0m \u001b[0merr\u001b[0m\u001b[0;34m:\u001b[0m\u001b[0;34m\u001b[0m\u001b[0;34m\u001b[0m\u001b[0m\n",
      "\u001b[0;32m~/.virtualenvs/cv/lib/python3.8/site-packages/pandas/_libs/index.pyx\u001b[0m in \u001b[0;36mpandas._libs.index.IndexEngine.get_loc\u001b[0;34m()\u001b[0m\n",
      "\u001b[0;32m~/.virtualenvs/cv/lib/python3.8/site-packages/pandas/_libs/index.pyx\u001b[0m in \u001b[0;36mpandas._libs.index.IndexEngine.get_loc\u001b[0;34m()\u001b[0m\n",
      "\u001b[0;32mpandas/_libs/hashtable_class_helper.pxi\u001b[0m in \u001b[0;36mpandas._libs.hashtable.PyObjectHashTable.get_item\u001b[0;34m()\u001b[0m\n",
      "\u001b[0;32mpandas/_libs/hashtable_class_helper.pxi\u001b[0m in \u001b[0;36mpandas._libs.hashtable.PyObjectHashTable.get_item\u001b[0;34m()\u001b[0m\n",
      "\u001b[0;31mKeyError\u001b[0m: 'BestIndividualSimplified'",
      "\nThe above exception was the direct cause of the following exception:\n",
      "\u001b[0;31mKeyError\u001b[0m                                  Traceback (most recent call last)",
      "\u001b[0;32m/tmp/ipykernel_241589/2495316217.py\u001b[0m in \u001b[0;36m<module>\u001b[0;34m\u001b[0m\n\u001b[0;32m----> 1\u001b[0;31m \u001b[0manalyseResults\u001b[0m\u001b[0;34m(\u001b[0m\u001b[0;34m'f02'\u001b[0m\u001b[0;34m)\u001b[0m\u001b[0;34m\u001b[0m\u001b[0;34m\u001b[0m\u001b[0m\n\u001b[0m",
      "\u001b[0;32m/tmp/ipykernel_241589/1539249407.py\u001b[0m in \u001b[0;36manalyseResults\u001b[0;34m(functionName)\u001b[0m\n\u001b[1;32m     15\u001b[0m     \u001b[0mbestResultRowBasicGP\u001b[0m \u001b[0;34m=\u001b[0m \u001b[0mdfBasicGP\u001b[0m\u001b[0;34m.\u001b[0m\u001b[0miloc\u001b[0m\u001b[0;34m[\u001b[0m\u001b[0;34m[\u001b[0m\u001b[0mmaxTestScoreRowIdxBasicGP\u001b[0m\u001b[0;34m]\u001b[0m\u001b[0;34m]\u001b[0m\u001b[0;34m\u001b[0m\u001b[0;34m\u001b[0m\u001b[0m\n\u001b[1;32m     16\u001b[0m     \u001b[0;31m#print(bestResultRowBasicGP)\u001b[0m\u001b[0;34m\u001b[0m\u001b[0;34m\u001b[0m\u001b[0;34m\u001b[0m\u001b[0m\n\u001b[0;32m---> 17\u001b[0;31m     \u001b[0mprint\u001b[0m\u001b[0;34m(\u001b[0m\u001b[0;34m'Max R2 score on test data is {0} for individual {1}, simplified to {2}'\u001b[0m\u001b[0;34m.\u001b[0m\u001b[0mformat\u001b[0m\u001b[0;34m(\u001b[0m\u001b[0mbestResultRowBasicGP\u001b[0m\u001b[0;34m.\u001b[0m\u001b[0miloc\u001b[0m\u001b[0;34m[\u001b[0m\u001b[0;36m0\u001b[0m\u001b[0;34m]\u001b[0m\u001b[0;34m[\u001b[0m\u001b[0;34m'TestR2Score'\u001b[0m\u001b[0;34m]\u001b[0m\u001b[0;34m,\u001b[0m \u001b[0mbestResultRowBasicGP\u001b[0m\u001b[0;34m.\u001b[0m\u001b[0miloc\u001b[0m\u001b[0;34m[\u001b[0m\u001b[0;36m0\u001b[0m\u001b[0;34m]\u001b[0m\u001b[0;34m[\u001b[0m\u001b[0;34m'BestIndividual'\u001b[0m\u001b[0;34m]\u001b[0m\u001b[0;34m,\u001b[0m \u001b[0mbestResultRowBasicGP\u001b[0m\u001b[0;34m.\u001b[0m\u001b[0miloc\u001b[0m\u001b[0;34m[\u001b[0m\u001b[0;36m0\u001b[0m\u001b[0;34m]\u001b[0m\u001b[0;34m[\u001b[0m\u001b[0;34m'BestIndividualSimplified'\u001b[0m\u001b[0;34m]\u001b[0m\u001b[0;34m)\u001b[0m\u001b[0;34m)\u001b[0m\u001b[0;34m\u001b[0m\u001b[0;34m\u001b[0m\u001b[0m\n\u001b[0m\u001b[1;32m     18\u001b[0m \u001b[0;34m\u001b[0m\u001b[0m\n\u001b[1;32m     19\u001b[0m     \u001b[0;32mif\u001b[0m \u001b[0;34m'SympyEquivalence'\u001b[0m \u001b[0;32min\u001b[0m \u001b[0mdfBasicGP\u001b[0m\u001b[0;34m.\u001b[0m\u001b[0mcolumns\u001b[0m\u001b[0;34m:\u001b[0m\u001b[0;34m\u001b[0m\u001b[0;34m\u001b[0m\u001b[0m\n",
      "\u001b[0;32m~/.virtualenvs/cv/lib/python3.8/site-packages/pandas/core/series.py\u001b[0m in \u001b[0;36m__getitem__\u001b[0;34m(self, key)\u001b[0m\n\u001b[1;32m    940\u001b[0m \u001b[0;34m\u001b[0m\u001b[0m\n\u001b[1;32m    941\u001b[0m         \u001b[0;32melif\u001b[0m \u001b[0mkey_is_scalar\u001b[0m\u001b[0;34m:\u001b[0m\u001b[0;34m\u001b[0m\u001b[0;34m\u001b[0m\u001b[0m\n\u001b[0;32m--> 942\u001b[0;31m             \u001b[0;32mreturn\u001b[0m \u001b[0mself\u001b[0m\u001b[0;34m.\u001b[0m\u001b[0m_get_value\u001b[0m\u001b[0;34m(\u001b[0m\u001b[0mkey\u001b[0m\u001b[0;34m)\u001b[0m\u001b[0;34m\u001b[0m\u001b[0;34m\u001b[0m\u001b[0m\n\u001b[0m\u001b[1;32m    943\u001b[0m \u001b[0;34m\u001b[0m\u001b[0m\n\u001b[1;32m    944\u001b[0m         \u001b[0;32mif\u001b[0m \u001b[0mis_hashable\u001b[0m\u001b[0;34m(\u001b[0m\u001b[0mkey\u001b[0m\u001b[0;34m)\u001b[0m\u001b[0;34m:\u001b[0m\u001b[0;34m\u001b[0m\u001b[0;34m\u001b[0m\u001b[0m\n",
      "\u001b[0;32m~/.virtualenvs/cv/lib/python3.8/site-packages/pandas/core/series.py\u001b[0m in \u001b[0;36m_get_value\u001b[0;34m(self, label, takeable)\u001b[0m\n\u001b[1;32m   1049\u001b[0m \u001b[0;34m\u001b[0m\u001b[0m\n\u001b[1;32m   1050\u001b[0m         \u001b[0;31m# Similar to Index.get_value, but we do not fall back to positional\u001b[0m\u001b[0;34m\u001b[0m\u001b[0;34m\u001b[0m\u001b[0;34m\u001b[0m\u001b[0m\n\u001b[0;32m-> 1051\u001b[0;31m         \u001b[0mloc\u001b[0m \u001b[0;34m=\u001b[0m \u001b[0mself\u001b[0m\u001b[0;34m.\u001b[0m\u001b[0mindex\u001b[0m\u001b[0;34m.\u001b[0m\u001b[0mget_loc\u001b[0m\u001b[0;34m(\u001b[0m\u001b[0mlabel\u001b[0m\u001b[0;34m)\u001b[0m\u001b[0;34m\u001b[0m\u001b[0;34m\u001b[0m\u001b[0m\n\u001b[0m\u001b[1;32m   1052\u001b[0m         \u001b[0;32mreturn\u001b[0m \u001b[0mself\u001b[0m\u001b[0;34m.\u001b[0m\u001b[0mindex\u001b[0m\u001b[0;34m.\u001b[0m\u001b[0m_get_values_for_loc\u001b[0m\u001b[0;34m(\u001b[0m\u001b[0mself\u001b[0m\u001b[0;34m,\u001b[0m \u001b[0mloc\u001b[0m\u001b[0;34m,\u001b[0m \u001b[0mlabel\u001b[0m\u001b[0;34m)\u001b[0m\u001b[0;34m\u001b[0m\u001b[0;34m\u001b[0m\u001b[0m\n\u001b[1;32m   1053\u001b[0m \u001b[0;34m\u001b[0m\u001b[0m\n",
      "\u001b[0;32m~/.virtualenvs/cv/lib/python3.8/site-packages/pandas/core/indexes/base.py\u001b[0m in \u001b[0;36mget_loc\u001b[0;34m(self, key, method, tolerance)\u001b[0m\n\u001b[1;32m   3361\u001b[0m                 \u001b[0;32mreturn\u001b[0m \u001b[0mself\u001b[0m\u001b[0;34m.\u001b[0m\u001b[0m_engine\u001b[0m\u001b[0;34m.\u001b[0m\u001b[0mget_loc\u001b[0m\u001b[0;34m(\u001b[0m\u001b[0mcasted_key\u001b[0m\u001b[0;34m)\u001b[0m\u001b[0;34m\u001b[0m\u001b[0;34m\u001b[0m\u001b[0m\n\u001b[1;32m   3362\u001b[0m             \u001b[0;32mexcept\u001b[0m \u001b[0mKeyError\u001b[0m \u001b[0;32mas\u001b[0m \u001b[0merr\u001b[0m\u001b[0;34m:\u001b[0m\u001b[0;34m\u001b[0m\u001b[0;34m\u001b[0m\u001b[0m\n\u001b[0;32m-> 3363\u001b[0;31m                 \u001b[0;32mraise\u001b[0m \u001b[0mKeyError\u001b[0m\u001b[0;34m(\u001b[0m\u001b[0mkey\u001b[0m\u001b[0;34m)\u001b[0m \u001b[0;32mfrom\u001b[0m \u001b[0merr\u001b[0m\u001b[0;34m\u001b[0m\u001b[0;34m\u001b[0m\u001b[0m\n\u001b[0m\u001b[1;32m   3364\u001b[0m \u001b[0;34m\u001b[0m\u001b[0m\n\u001b[1;32m   3365\u001b[0m         \u001b[0;32mif\u001b[0m \u001b[0mis_scalar\u001b[0m\u001b[0;34m(\u001b[0m\u001b[0mkey\u001b[0m\u001b[0;34m)\u001b[0m \u001b[0;32mand\u001b[0m \u001b[0misna\u001b[0m\u001b[0;34m(\u001b[0m\u001b[0mkey\u001b[0m\u001b[0;34m)\u001b[0m \u001b[0;32mand\u001b[0m \u001b[0;32mnot\u001b[0m \u001b[0mself\u001b[0m\u001b[0;34m.\u001b[0m\u001b[0mhasnans\u001b[0m\u001b[0;34m:\u001b[0m\u001b[0;34m\u001b[0m\u001b[0;34m\u001b[0m\u001b[0m\n",
      "\u001b[0;31mKeyError\u001b[0m: 'BestIndividualSimplified'"
     ]
    }
   ],
   "source": [
    "analyseResults('f02')"
   ]
  },
  {
   "cell_type": "code",
   "execution_count": null,
   "id": "65928294",
   "metadata": {},
   "outputs": [],
   "source": []
  },
  {
   "cell_type": "code",
   "execution_count": null,
   "id": "aca97b4d",
   "metadata": {},
   "outputs": [],
   "source": []
  },
  {
   "cell_type": "code",
   "execution_count": 7,
   "id": "0e578ba2",
   "metadata": {},
   "outputs": [
    {
     "name": "stdout",
     "output_type": "stream",
     "text": [
      "----------------------------------------------------------\n",
      "Basic GP result analysis:\n",
      "\n",
      "Mean R2 score on train data: 0.23791100841291796\n",
      "Mean R2 score on test data: 0.26405557635569044\n",
      "Max R2 score on test data is 0.9292544378885744 for individual (sin(sin(0.585))**((x5 / log(0.777)))), simplified to 1.90635601565208**(3.96330096475541*x5)\n",
      "Symbolical equivalence with target function: False\n",
      "Number of runs in which symbolical equivalence was achived: 0\n",
      "Average time:  00:03:03.80\n",
      "----------------------------------------------------------\n",
      "\n",
      "GP with Semantic Similarity-based Crossover result analysis:\n",
      "\n",
      "Mean R2 score on train data: 0.2130339640682002\n",
      "Mean R2 score on test data: 0.23310319778488475\n",
      "Max R2 score on test data is 0.7923647003459856 for individual (0.822 / (0.052**(x5))), simplified to 0.822*19.2307692307692**x5\n",
      "Symbolical equivalence with target function: False\n",
      "Number of runs in which symbolical equivalence was achived: 0\n",
      "Average time:  00:04:07.58\n",
      "----------------------------------------------------------\n",
      "\n",
      "VNP result analysis:\n",
      "\n",
      "Mean R2 score on train data: 0.47662605824882615\n",
      "Mean R2 score on test data: 0.45711915763982397\n",
      "Max R2 score on test data is 0.955594575304928 for individual (((0.014 * 0.014)**(((x1 / x2) - x5))) / (((x1 / x5) - x5) - x5)), simplified to 0.000196**((x1 - x2*x5)/x2)*x5/(x1 - 2*x5**2)\n",
      "Average time:  00:00:30.21\n",
      "----------------------------------------------------------\n",
      "\n"
     ]
    },
    {
     "data": {
      "image/png": "[encoded data removed]",
      "text/plain": [
       "<Figure size 432x288 with 1 Axes>"
      ]
     },
     "metadata": {
      "needs_background": "light"
     },
     "output_type": "display_data"
    }
   ],
   "source": [
    "analyseResults('yacht_hydrodynamics')"
   ]
  },
  {
   "cell_type": "code",
   "execution_count": null,
   "id": "8a2a6b21",
   "metadata": {},
   "outputs": [],
   "source": []
  }
 ],
 "metadata": {
  "kernelspec": {
   "display_name": "Python 3 (ipykernel)",
   "language": "python",
   "name": "python3"
  },
  "language_info": {
   "codemirror_mode": {
    "name": "ipython",
    "version": 3
   },
   "file_extension": ".py",
   "mimetype": "text/x-python",
   "name": "python",
   "nbconvert_exporter": "python",
   "pygments_lexer": "ipython3",
   "version": "3.8.10"
  }
 },
 "nbformat": 4,
 "nbformat_minor": 5
}
